{
 "cells": [
  {
   "cell_type": "code",
   "execution_count": 7,
   "metadata": {},
   "outputs": [],
   "source": [
    "import numpy as np\n",
    "import sympy as smp\n",
    "from scipy.integrate import odeint\n",
    "import matplotlib.pyplot as plt\n",
    "from matplotlib import animation\n",
    "from mpl_toolkits.mplot3d import Axes3D\n",
    "from matplotlib.animation import PillowWriter\n",
    "from IPython.display import HTML"
   ]
  },
  {
   "cell_type": "code",
   "execution_count": 8,
   "metadata": {},
   "outputs": [],
   "source": [
    "# Constants\n",
    "t = smp.symbols('t')\n",
    "m1, m2, k1, k2, k3 = smp.symbols('m1 m2 k1 k2 k3')\n",
    "\n",
    "# Linear functions of time\n",
    "x1, x2, = smp.symbols(r'\\x_1, \\x_2', cls=smp.Function)\n",
    "x1 = x1(t)\n",
    "x2 = x2(t)\n",
    "\n",
    "def get_derivatives(x1, x2):\n",
    "\n",
    "    v1 = smp.diff(x1, t)\n",
    "    v2 = smp.diff(x2, t)\n",
    "    a1 = smp.diff(v1, t)\n",
    "    a2 = smp.diff(v2, t)\n",
    "\n",
    "    return v1, v2, a1, a2\n",
    "\n",
    "def get_Lagrangian(x1, x2, v1, v2):\n",
    "\n",
    "    T = (1/2)*(m1)*(v1**2) + (1/2)*(m2)*(v2**2)\n",
    "    V = (1/2)*(k1)*(x1**2) + (1/2)*(k3)*(x2**2) + (1/2)*(k2)*((x2 - x1)**2)\n",
    "    L = T - V\n",
    "\n",
    "    return L\n",
    "\n",
    "def solve_Lagrange_equations(L, x1, x2, v1, v2, a1, a2, t):\n",
    "\n",
    "    LE1 = smp.diff(L, x1) - smp.diff(smp.diff(L, v1), t).simplify()\n",
    "    LE2 = smp.diff(L, x2) - smp.diff(smp.diff(L, v2), t).simplify()\n",
    "    sols = smp.solve([LE1, LE2], (a1, a2), simplify=False, rational=False)\n",
    "\n",
    "    return sols\n",
    "\n",
    "def Lambdify(v1, v2, a1, a2, sols):\n",
    "\n",
    "    dz1dt_f = smp.lambdify((t,m1,m2,k1,k2,k3,x1,x2,v1,v2), sols[a1])\n",
    "    dz2dt_f = smp.lambdify((t,m1,m2,k1,k2,k3,x1,x2,v1,v2), sols[a2])\n",
    "    dx1dt_f = smp.lambdify(v1, v1)\n",
    "    dx2dt_f = smp.lambdify(v2, v2)\n",
    "\n",
    "    return dz1dt_f, dz2dt_f, dx1dt_f, dx2dt_f\n",
    "\n",
    "def dSdt(S, t, m1, m2, k1, k2, k3):\n",
    "\n",
    "    x1, z1, x2, z2 = S\n",
    "\n",
    "    return [\n",
    "        dx1dt_f(z1),\n",
    "        dz1dt_f(t, m1, m2, k1, k2, k3, x1, x2, z1, z2),\n",
    "        dx2dt_f(z2),\n",
    "        dz2dt_f(t, m1, m2, k1, k2, k3, x1, x2, z1, z2),\n",
    "    ]\n",
    "\n",
    "def get_x1x2_hist(t, x1, x2):\n",
    "    return x1, x2\n",
    "\n",
    "def animate(i):\n",
    "    \n",
    "    ln1.set_data([-5, x1_hist[i]], [0, 0])  \n",
    "    ln2.set_data([x1_hist[i], x2_hist[i]], [0, 0])  \n",
    "    ln3.set_data([x2_hist[i], 5], [0, 0])  \n",
    "\n",
    "    # Update the red markers for the masses\n",
    "    markers.set_data([x1_hist[i], x2_hist[i]], [0, 0])\n",
    "    return ln1, ln2, ln3, markers\n",
    "\n",
    "v1, v2, a1, a2 = get_derivatives(x1, x2)\n",
    "L = get_Lagrangian(x1, x2, v1, v2)\n",
    "sols = solve_Lagrange_equations(L, x1, x2, v1, v2, a1, a2, t)\n",
    "dz1dt_f, dz2dt_f, dx1dt_f, dx2dt_f = Lambdify(v1, v2, a1, a2, sols)"
   ]
  },
  {
   "cell_type": "code",
   "execution_count": 9,
   "metadata": {},
   "outputs": [
    {
     "data": {
      "image/png": "[encoded data removed]",
      "text/plain": [
       "<Figure size 800x800 with 1 Axes>"
      ]
     },
     "metadata": {},
     "output_type": "display_data"
    }
   ],
   "source": [
    "t = np.linspace(0, 20, 101)\n",
    "m1 = 1\n",
    "m2 = 1\n",
    "k1 = 1\n",
    "k2 = 1\n",
    "k3 = 1\n",
    "\n",
    "# initial conditions: x1, v1, x2, v2\n",
    "y0 = [-0.5, 0.0, 0.5, 0.0]\n",
    "\n",
    "ans = odeint(dSdt, y0, t, args=(m1, m2, k1, k2, k3))\n",
    "x1_hist, x2_hist = get_x1x2_hist(t, ans.T[0], ans.T[2])\n",
    "fig, ax = plt.subplots(1,1, figsize=(8,8)) \n",
    "ax.set_facecolor('white') \n",
    "ax.get_xaxis().set_ticks([])    \n",
    "ax.get_yaxis().set_ticks([])    \n",
    "ln1, = plt.plot([], [], 'k-', lw=3)  \n",
    "ln2, = plt.plot([], [], 'k-', lw=3)  \n",
    "ln3, = plt.plot([], [], 'k-', lw=3)  \n",
    "markers, = plt.plot([], [], 'ro', markersize=8)  \n",
    "ax.set_ylim(-1, 1)\n",
    "ax.set_xlim(-5, 5)\n",
    "ani = animation.FuncAnimation(fig, animate, frames=len(t), interval=50)\n",
    "# HTML(ani.to_jshtml())\n",
    "ani.save('pen.gif',writer='pillow',fps=25)"
   ]
  },
  {
   "cell_type": "code",
   "execution_count": null,
   "metadata": {},
   "outputs": [],
   "source": []
  }
 ],
 "metadata": {
  "kernelspec": {
   "display_name": "base",
   "language": "python",
   "name": "python3"
  },
  "language_info": {
   "codemirror_mode": {
    "name": "ipython",
    "version": 3
   },
   "file_extension": ".py",
   "mimetype": "text/x-python",
   "name": "python",
   "nbconvert_exporter": "python",
   "pygments_lexer": "ipython3",
   "version": "3.12.7"
  }
 },
 "nbformat": 4,
 "nbformat_minor": 2
}
